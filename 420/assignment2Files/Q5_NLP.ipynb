{
  "nbformat": 4,
  "nbformat_minor": 0,
  "metadata": {
    "colab": {
      "name": "A2NLPPipeline.ipynb",
      "provenance": [],
      "collapsed_sections": []
    },
    "kernelspec": {
      "display_name": "Python 3",
      "language": "python",
      "name": "python3"
    },
    "language_info": {
      "codemirror_mode": {
        "name": "ipython",
        "version": 3
      },
      "file_extension": ".py",
      "mimetype": "text/x-python",
      "name": "python",
      "nbconvert_exporter": "python",
      "pygments_lexer": "ipython3",
      "version": "3.6.6"
    }
  },
  "cells": [
    {
      "cell_type": "markdown",
      "metadata": {
        "id": "Ela_9oRqX181"
      },
      "source": [
        "# Building an NLP Pipeline\n",
        "\n"
      ]
    },
    {
      "cell_type": "code",
      "metadata": {
        "colab": {
          "base_uri": "https://localhost:8080/"
        },
        "id": "57L76bzJEoP-",
        "outputId": "379456de-a2e4-45fe-82d5-0f9dfdfb9c7c"
      },
      "source": [
        "from google.colab import drive\n",
        "drive.mount('/content/drive/')"
      ],
      "execution_count": null,
      "outputs": [
        {
          "output_type": "stream",
          "text": [
            "Drive already mounted at /content/drive/; to attempt to forcibly remount, call drive.mount(\"/content/drive/\", force_remount=True).\n"
          ],
          "name": "stdout"
        }
      ]
    },
    {
      "cell_type": "code",
      "metadata": {
        "id": "6ZAPlPBjSN4o"
      },
      "source": [
        "# load file into dataframe\n",
        "csv_dir = '/content/drive/My Drive/Colab Notebooks/CS420/NLPCodes'"
      ],
      "execution_count": null,
      "outputs": []
    },
    {
      "cell_type": "code",
      "metadata": {
        "colab": {
          "base_uri": "https://localhost:8080/",
          "height": 380
        },
        "id": "dTsiz_77X187",
        "outputId": "ab601b0d-e884-4b4d-f0ef-3ac177ab0684"
      },
      "source": [
        "import nltk\n",
        "from nltk.stem import WordNetLemmatizer\n",
        "import sys\n",
        "from nltk.corpus import wordnet\n",
        "from nltk.corpus import stopwords\n",
        "from nltk.parse.malt import MaltParser\n",
        "nltk.download('punkt')\n",
        "nltk.download('averaged_perceptron_tagger')\n",
        "nltk.download('wordnet')\n",
        "nltk.download('stopwords')\n",
        "\n",
        "import pandas as pd\n",
        "import numpy as np\n",
        "\n",
        "df = []\n",
        "with open(f'{csv_dir}/200Reviews.csv', 'r') as file:\n",
        "  df = pd.read_csv(file)\n",
        "df.head()"
      ],
      "execution_count": null,
      "outputs": [
        {
          "output_type": "stream",
          "text": [
            "[nltk_data] Downloading package punkt to /root/nltk_data...\n",
            "[nltk_data]   Package punkt is already up-to-date!\n",
            "[nltk_data] Downloading package averaged_perceptron_tagger to\n",
            "[nltk_data]     /root/nltk_data...\n",
            "[nltk_data]   Package averaged_perceptron_tagger is already up-to-\n",
            "[nltk_data]       date!\n",
            "[nltk_data] Downloading package wordnet to /root/nltk_data...\n",
            "[nltk_data]   Package wordnet is already up-to-date!\n",
            "[nltk_data] Downloading package stopwords to /root/nltk_data...\n",
            "[nltk_data]   Package stopwords is already up-to-date!\n"
          ],
          "name": "stdout"
        },
        {
          "output_type": "execute_result",
          "data": {
            "text/html": [
              "<div>\n",
              "<style scoped>\n",
              "    .dataframe tbody tr th:only-of-type {\n",
              "        vertical-align: middle;\n",
              "    }\n",
              "\n",
              "    .dataframe tbody tr th {\n",
              "        vertical-align: top;\n",
              "    }\n",
              "\n",
              "    .dataframe thead th {\n",
              "        text-align: right;\n",
              "    }\n",
              "</style>\n",
              "<table border=\"1\" class=\"dataframe\">\n",
              "  <thead>\n",
              "    <tr style=\"text-align: right;\">\n",
              "      <th></th>\n",
              "      <th>Unnamed: 0</th>\n",
              "      <th>id</th>\n",
              "      <th>sentiment</th>\n",
              "      <th>review</th>\n",
              "    </tr>\n",
              "  </thead>\n",
              "  <tbody>\n",
              "    <tr>\n",
              "      <th>0</th>\n",
              "      <td>0</td>\n",
              "      <td>\"5814_8\"</td>\n",
              "      <td>1</td>\n",
              "      <td>\"With all this stuff going down at the moment ...</td>\n",
              "    </tr>\n",
              "    <tr>\n",
              "      <th>1</th>\n",
              "      <td>1</td>\n",
              "      <td>\"2381_9\"</td>\n",
              "      <td>1</td>\n",
              "      <td>\"\\\"The Classic War of the Worlds\\\" by Timothy ...</td>\n",
              "    </tr>\n",
              "    <tr>\n",
              "      <th>2</th>\n",
              "      <td>2</td>\n",
              "      <td>\"7759_3\"</td>\n",
              "      <td>0</td>\n",
              "      <td>\"The film starts with a manager (Nicholas Bell...</td>\n",
              "    </tr>\n",
              "    <tr>\n",
              "      <th>3</th>\n",
              "      <td>3</td>\n",
              "      <td>\"3630_4\"</td>\n",
              "      <td>0</td>\n",
              "      <td>\"It must be assumed that those who praised thi...</td>\n",
              "    </tr>\n",
              "    <tr>\n",
              "      <th>4</th>\n",
              "      <td>4</td>\n",
              "      <td>\"9495_8\"</td>\n",
              "      <td>1</td>\n",
              "      <td>\"Superbly trashy and wondrously unpretentious ...</td>\n",
              "    </tr>\n",
              "  </tbody>\n",
              "</table>\n",
              "</div>"
            ],
            "text/plain": [
              "   Unnamed: 0  ...                                             review\n",
              "0           0  ...  \"With all this stuff going down at the moment ...\n",
              "1           1  ...  \"\\\"The Classic War of the Worlds\\\" by Timothy ...\n",
              "2           2  ...  \"The film starts with a manager (Nicholas Bell...\n",
              "3           3  ...  \"It must be assumed that those who praised thi...\n",
              "4           4  ...  \"Superbly trashy and wondrously unpretentious ...\n",
              "\n",
              "[5 rows x 4 columns]"
            ]
          },
          "metadata": {
            "tags": []
          },
          "execution_count": 46
        }
      ]
    },
    {
      "cell_type": "code",
      "metadata": {
        "colab": {
          "base_uri": "https://localhost:8080/",
          "height": 36
        },
        "id": "N2ONYqRBX188",
        "outputId": "399b83f7-bf16-4311-c253-534cf64450d6"
      },
      "source": [
        "#Step1: Sentence segmentation\n",
        "df['review'] = df['review'].apply(lambda sentences: nltk.sent_tokenize(sentences))\n",
        "df.iloc[0].review[0]"
      ],
      "execution_count": null,
      "outputs": [
        {
          "output_type": "execute_result",
          "data": {
            "application/vnd.google.colaboratory.intrinsic+json": {
              "type": "string"
            },
            "text/plain": [
              "'\"With all this stuff going down at the moment with MJ i\\'ve started listening to his music, watching the odd documentary here and there, watched The Wiz and watched Moonwalker again.'"
            ]
          },
          "metadata": {
            "tags": []
          },
          "execution_count": 47
        }
      ]
    },
    {
      "cell_type": "code",
      "metadata": {
        "id": "PCYp_6pOX189"
      },
      "source": [
        "#Step 2: Word tokenization\n",
        "df['review'] = df['review'].apply(lambda sentences: [nltk.word_tokenize(sentence) for sentence in sentences])\n",
        "# df.iloc[0].review[0]"
      ],
      "execution_count": null,
      "outputs": []
    },
    {
      "cell_type": "code",
      "metadata": {
        "id": "RWfeIG6DX18-"
      },
      "source": [
        "#Step 3: Predicting parts off speech for each token\n",
        "df['review'] = df['review'].apply(lambda sentences: [nltk.pos_tag(sentence) for sentence in sentences])\n",
        "# df.iloc[0].review[0]"
      ],
      "execution_count": null,
      "outputs": []
    },
    {
      "cell_type": "code",
      "metadata": {
        "id": "Sw3pG3ElX18-"
      },
      "source": [
        "#Step 4: Text Lemmatization\n",
        "# Get Wordnet Tag\n",
        "def get_wordnet_pos(treebank_tag):\n",
        "  if treebank_tag.startswith('J'):\n",
        "    return wordnet.ADJ\n",
        "  elif treebank_tag.startswith('V'):\n",
        "    return wordnet.VERB\n",
        "  elif treebank_tag.startswith('N'):\n",
        "    return wordnet.NOUN\n",
        "  elif treebank_tag.startswith('R'):\n",
        "    return wordnet.ADV\n",
        "  else:\n",
        "    return ''\n",
        "# Get Lemmatized word\n",
        "def getLemmatizedWord(word, wordnettag):\n",
        "  wordnet_lemmatizer = WordNetLemmatizer()\n",
        "  lemmatizedword = ''\n",
        "  if wordnettag == '':\n",
        "      lemmatizedword = wordnet_lemmatizer.lemmatize(word.lower())\n",
        "  else:\n",
        "      lemmatizedword = wordnet_lemmatizer.lemmatize(word.lower(),pos=wordnettag)\n",
        "  if word.istitle():\n",
        "      lemmatizedword = lemmatizedword.capitalize()\n",
        "  elif word.upper()==word:\n",
        "      lemmatizedword = lemmatizedword.upper()\n",
        "  else:\n",
        "      lemmatizedword = lemmatizedword\n",
        "  return lemmatizedword\n",
        "\n",
        "df['review'] = df['review'].apply(lambda sentences: [[getLemmatizedWord(word[0], get_wordnet_pos(word[1])) for word in sentence] for sentence in sentences])\n",
        "# df.iloc[0].review[0]"
      ],
      "execution_count": null,
      "outputs": []
    },
    {
      "cell_type": "code",
      "metadata": {
        "id": "j6502yIIX18_"
      },
      "source": [
        "#Step 5: Identifying stop words\n",
        "stopWords = set(stopwords.words('english'))\n",
        "df['review'] = df['review'].apply(lambda sentences: [[word for word in sentence if word not in stopWords] for sentence in sentences])\n",
        "# df.iloc[0].review[0]"
      ],
      "execution_count": null,
      "outputs": []
    },
    {
      "cell_type": "markdown",
      "metadata": {
        "id": "2O_79govKaHI"
      },
      "source": [
        "# Co-occurence Matrix"
      ]
    },
    {
      "cell_type": "code",
      "metadata": {
        "id": "gAIDnPsZWtCo"
      },
      "source": [
        "class CoOccurenceMatrix:\n",
        "  def __init__(self, window):\n",
        "    self.vocabulary = []\n",
        "    self.matrix = []\n",
        "    self.window = window\n",
        "    self.embedding = []\n",
        "    self.u = None\n",
        "    self.s = None\n",
        "    self.vh = None\n",
        "  \n",
        "  def add(self, word, window):\n",
        "    self.newWord(word) # add word\n",
        "    index = self.vocabulary.index(word)\n",
        "    # add all words in window\n",
        "    for coword in window:\n",
        "      self.newWord(coword) # add coword\n",
        "      self.matrix[index][self.vocabulary.index(coword)] += 1\n",
        "      \n",
        "  def newWord(self, word):\n",
        "    # add word to matrix and vocabulary if not in vocabulary\n",
        "    if word not in self.vocabulary:\n",
        "      self.vocabulary.append(word)\n",
        "      for line in self.matrix:\n",
        "        line.append(0)\n",
        "      self.matrix.append([0 for i in range(len(self.vocabulary))])\n",
        "\n",
        "  def addSentence(self, sentence):\n",
        "    # for each word create window, and add word\n",
        "    for count, word in enumerate(sentence):\n",
        "      window = sentence[max(0, count - self.window) : min(len(self.vocabulary), count + self.window + 1)]\n",
        "      if word in window:\n",
        "        window.remove(word)\n",
        "      self.add(word, window)\n",
        "\n",
        "  def createEmbedding(self, size=100):\n",
        "    self.u, self.s, self.vh = np.linalg.svd(matrix.matrix, full_matrices=False)\n",
        "    for word in self.u:\n",
        "      self.embedding.append(word[:size])\n",
        "  \n",
        "  def printMatrix(self, maxSizePrint=10):\n",
        "    print(f'matrix width: {len(self.matrix[0])}')\n",
        "    print(f'matrix height: {len(self.matrix)}')\n",
        "    print(f'vocab size: {len(self.vocabulary)}')\n",
        "    print(f'vocab list: {self.vocabulary[:maxSizePrint]}')\n",
        "    for i in range(min(maxSizePrint, len(self.vocabulary))):\n",
        "      print(self.matrix[i][:min(maxSizePrint, len(self.vocabulary))])\n",
        "  \n",
        "  def printEmbedding(self, maxSizePrint=10):\n",
        "    print(f'embedding width: {len(self.embedding[0])}')\n",
        "    print(f'embedding height: {len(self.embedding)}')\n",
        "    for i in range(min(maxSizePrint, len(self.vocabulary))):\n",
        "      print(self.embedding[i][:min(maxSizePrint, len(self.embedding[0]))])\n",
        "    \n"
      ],
      "execution_count": null,
      "outputs": []
    },
    {
      "cell_type": "code",
      "metadata": {
        "id": "Bfreo6hO0G9T"
      },
      "source": [
        "#create co-occurence matrix\n",
        "matrix = CoOccurenceMatrix(5)\n",
        "for index, row in df.iterrows():\n",
        "  for sentence in row.review:\n",
        "    matrix.addSentence(sentence)"
      ],
      "execution_count": null,
      "outputs": []
    },
    {
      "cell_type": "code",
      "metadata": {
        "id": "459yUiDAipsY",
        "colab": {
          "base_uri": "https://localhost:8080/"
        },
        "outputId": "9e515fe4-a28f-4ab1-808f-484e02bc5b27"
      },
      "source": [
        "matrix.printMatrix()"
      ],
      "execution_count": null,
      "outputs": [
        {
          "output_type": "stream",
          "text": [
            "matrix width: 7417\n",
            "matrix height: 7417\n",
            "vocab size: 7417\n",
            "vocab list: ['``', 'With', 'stuff', 'go', 'moment', 'MJ', \"'ve\", 'start', 'listen', 'music']\n",
            "[0, 0, 0, 3, 0, 0, 4, 3, 0, 1]\n",
            "[1, 0, 0, 0, 0, 0, 0, 0, 0, 0]\n",
            "[1, 1, 0, 1, 0, 0, 1, 0, 0, 1]\n",
            "[4, 1, 2, 0, 0, 1, 1, 1, 1, 0]\n",
            "[1, 1, 1, 1, 0, 0, 0, 0, 0, 0]\n",
            "[1, 1, 1, 2, 1, 0, 0, 0, 0, 0]\n",
            "[4, 1, 2, 2, 1, 1, 0, 0, 0, 2]\n",
            "[3, 0, 1, 2, 1, 1, 1, 2, 0, 0]\n",
            "[0, 0, 0, 2, 1, 1, 1, 1, 0, 0]\n",
            "[1, 0, 1, 0, 1, 1, 3, 1, 1, 2]\n"
          ],
          "name": "stdout"
        }
      ]
    },
    {
      "cell_type": "code",
      "metadata": {
        "id": "pTn9ud67sUvG"
      },
      "source": [
        "# get first 100 column of each matrix\n",
        "matrix.createEmbedding()"
      ],
      "execution_count": null,
      "outputs": []
    },
    {
      "cell_type": "code",
      "metadata": {
        "colab": {
          "base_uri": "https://localhost:8080/"
        },
        "id": "TL2TGWf4yqdy",
        "outputId": "835ae32a-b259-4b29-f8f8-070e6fa8fa5a"
      },
      "source": [
        "matrix.printEmbedding(4)"
      ],
      "execution_count": null,
      "outputs": [
        {
          "output_type": "stream",
          "text": [
            "embedding width: 100\n",
            "embedding height: 7417\n",
            "[-0.00319844 -0.03302494  0.0024539   0.0214006 ]\n",
            "[-0.00056103 -0.00072078 -0.00038473  0.00099664]\n",
            "[-1.39089096e-04 -2.77688367e-03  3.47213244e-05  1.42663313e-03]\n",
            "[-4.07631138e-03 -3.56803406e-02  9.96355636e-05  2.17062358e-02]\n"
          ],
          "name": "stdout"
        }
      ]
    },
    {
      "cell_type": "markdown",
      "metadata": {
        "id": "ct9fm1VTKfIe"
      },
      "source": [
        "# Word2Vec"
      ]
    },
    {
      "cell_type": "code",
      "metadata": {
        "id": "_0of2ssjjYc6"
      },
      "source": [
        "from gensim.test.utils import common_texts\n",
        "from gensim.models import Word2Vec\n",
        "import math\n",
        "\n",
        "# Get the interactive Tools for Matplotlib\n",
        "import matplotlib.pyplot as plt\n",
        "from sklearn.decomposition import PCA"
      ],
      "execution_count": null,
      "outputs": []
    },
    {
      "cell_type": "code",
      "metadata": {
        "id": "H0eaB2JGkRbJ"
      },
      "source": [
        "sentences = []\n",
        "for index, row in df.iterrows():\n",
        "  for sentence in row.review:\n",
        "    sentences.append(sentence)"
      ],
      "execution_count": null,
      "outputs": []
    },
    {
      "cell_type": "code",
      "metadata": {
        "id": "39H8433Uj50B"
      },
      "source": [
        "# Creating the model and setting values for the various parameters\n",
        "num_features = 100  # Word vector dimensionality\n",
        "min_word_count = 10 # Minimum word count\n",
        "num_workers = 4     # Number of parallel threads\n",
        "context = 5         # Context window size\n",
        "downsampling = 1e-3 # (0.001) Downsample setting for frequent words\n",
        "\n",
        "model = Word2Vec(sentences,\n",
        "                 size=num_features,\n",
        "                 window=context,\n",
        "                 min_count=min_word_count,\n",
        "                 workers=num_workers,\n",
        "                 sample=downsampling)"
      ],
      "execution_count": null,
      "outputs": []
    },
    {
      "cell_type": "markdown",
      "metadata": {
        "id": "00v_2TS9KlQ7"
      },
      "source": [
        "# Plot"
      ]
    },
    {
      "cell_type": "code",
      "metadata": {
        "colab": {
          "base_uri": "https://localhost:8080/"
        },
        "id": "K_kZ_kh_Rw6K",
        "outputId": "cb6b0444-0eb3-4a29-c86d-505ee71d3ae0"
      },
      "source": [
        "print(len(model.wv.index2word))\n",
        "print(model.wv.index2word)\n",
        "# print(sentences)"
      ],
      "execution_count": null,
      "outputs": [
        {
          "output_type": "stream",
          "text": [
            "475\n",
            "[',', '.', \"''\", '/', '<', 'br', '>', 'I', \"'s\", 'film', 'movie', 'The', '\\\\', ')', '(', '!', \"n't\", 'one', '``', 'make', '?', 'like', 'good', 'get', 'It', 'see', 'bad', 'This', 'go', '...', 'character', 'watch', ':', 'would', 'time', 'really', 'even', 'story', 'people', '-', 'well', 'first', 'look', 'scene', 'much', 'thing', 'come', 'way', 'could', \"'\", 'end', 'think', 'say', 'know', 'take', 'try', 'give', 'great', 'A', 'actor', '&', 'show', 'also', 'play', 'find', 'seem', 'There', 'But', 'love', 'life', 'start', 'year', 'part', 'work', 'never', 'And', 'two', 'many', '--', 'director', \"'re\", 'little', 'zombie', 'turn', 'ever', 'still', 'If', 'best', ';', 'plot', 'want', 'without', \"'m\", 'minute', 'He', 'guy', 'fact', 'In', 'horror', 'though', 'performance', 'cast', 'back', 'kill', 'star', 'point', 'interesting', \"'ve\", 'need', 'pretty', 'acting', 'funny', 'whole', 'line', 'put', 'use', 'nothing', 'old', 'You', 'big', 'lot', 'name', 'rather', 'actually', 'last', 'man', 'video', 'far', 'almost', 'feel', 'run', 'set', 'script', 'action', 'friend', 'lead', 'So', 'may', 'every', 'fun', 'least', 'woman', 'keep', 'tell', 'mean', 'music', 'course', 'bit', 'another', 'hard', 'young', 'saw', 'flick', 'live', 'comedy', 'Lou', 'girl', 'quite', 'title', 'TV', 'money', 'Mary', 'place', 'act', '3', 'fan', 'book', 'become', 'ca', 'around', 'house', 'What', 'right', 'suppose', 'must', 'Well', 'anything', 'original', 'kid', 'human', 'real', 'read', 'sort', 'reason', 'believe', 'happen', 'role', 'enough', 'probably', 'style', 'something', 'call', 'let', 'begin', 'second', 'That', 'moment', 'away', 'face', 'My', 'effect', 'American', \"'ll\", 'hand', 'win', 'involve', 'expect', 'nice', 'behind', 'idea', 'waste', 'buy', 'write', 'new', 'else', 'together', 'long', 'anyone', 'main', '2', 'everyone', 'No', 'half', 'theme', 'DVD', 'home', 'sequel', 'since', 'interest', 'poor', 'leave', 'camera', 'They', '10', 'fall', 'job', 'Night', 'remember', 'enjoy', 'small', 'direct', 'care', 'sound', 'When', 'understand', 'rest', 'always', 'series', 'low', 'laugh', 'along', 'gay', 'However', 'late', 'world', 'All', 'sequence', 'truly', 'base', 'boring', 'others', 'sense', 'deal', 'completely', 'One', 'u', 'top', 'move', 'couple', 'absolutely', 'worth', 'day', 'awful', 'sexual', 'include', 'present', 'create', 'death', 'To', 'save', 'bring', 'horrible', 'help', 'attempt', 'episode', 'mind', 'cinema', 'Some', 'message', 'dead', 'either', 'fight', 'appear', 'special', 'provide', 'especially', 'kind', 'several', 'sure', 'town', 'talk', 'lose', 'case', 'wonder', 'favorite', 'credit', 'family', 'light', 'typical', 'Do', 'Mr', 'beautiful', 'night', 'feeling', 'high', 'decide', '\\x96', 'song', 'head', 'comment', 'school', 'Ben', 'miss', 'production', 'early', 'next', 'excellent', 'follow', 'sex', 'men', 'eye', 'three', 'hour', 'killer', 'die', 'person', 'view', 'side', 'writer', 'able', 'might', 'release', 'Michael', 'etc', 'car', 'alone', 'bunch', 'different', 'stupid', 'hope', 'Hollywood', 'match', 'stick', 'add', 'close', 'imagine', 'body', 'short', 'break', 'audience', 'order', 'example', 'Although', '1', 'While', 'problem', 'King', 'After', 'Not', 'budget', 'Now', 'someone', 'pay', 'definitely', 'entire', 'guess', 'deserve', 'wrong', 'soon', 'How', 'child', 'art', 'grow', 'joke', \"'d\", 'shot', 'cheap', 'pick', 'segment', 'producer', '4', 'MJ', 'feature', 'Also', 'usually', 'classic', 'version', 'We', 'totally', 'element', 'voice', 'lack', 'black', 'support', 'recommend', 'father', 'age', 'shoot', 'across', 'Let', 'none', 'doubt', 'forget', 'manage', 'Heston', 'wait', 'despite', 'chance', 'wife', 'Lee', 'Celeste', 'talent', 'country', 'Noriko', '’', 'true', 'entertaining', 'standard', 'everything', 'Robert', 'however', 'open', 'escape', 'attack', 'full', 'final', 'piece', 'mention', 'serious', 'later', 'sister', 'less', 'twist', 'local', 'change', 'clearly', 'question', 'superb', 'rent', 'complete', 'fantastic', 'screen', 'dialogue', 'Man', 'At', 'strong', 'felt', 'pull', 'fine', 'dark', 'For', 'viewer', 'sit', 'hop', 'quality', 'indeed', 'figure', 'hide', 'Wang', 'class', 'adult', 'prom', 'Durbin', '–', 'Coburn']\n"
          ],
          "name": "stdout"
        }
      ]
    },
    {
      "cell_type": "code",
      "metadata": {
        "colab": {
          "base_uri": "https://localhost:8080/",
          "height": 818
        },
        "id": "gEvWaAtumrGV",
        "outputId": "e7683522-5107-4b34-ec0f-d55386094bfc"
      },
      "source": [
        "# get random words in word2vec model\n",
        "w2v_words = ['actor', 'show', 'director', 'film', 'movie', 'fun', 'woman', 'friend', 'girl', 'book']\n",
        "# for i in np.random.rand(5):\n",
        "#   i = math.floor(i * len(model.wv.index2word))\n",
        "#   w2v_words.append(model.wv.index2word[i])\n",
        "\n",
        "svd_words = [word for word in w2v_words if word in matrix.vocabulary]\n",
        "\n",
        "print(w2v_words)\n",
        "print(svd_words)\n",
        "\n",
        "# get word vectors\n",
        "w2v_word_vectors = np.array([model.wv[w] for w in w2v_words])\n",
        "svd_word_vectors = [matrix.embedding[matrix.vocabulary.index(word)] for word in svd_words]\n",
        "# tranform to 2d\n",
        "w2v_twodim = PCA().fit_transform(w2v_word_vectors)[:,:2]\n",
        "svd_twodim = PCA().fit_transform(svd_word_vectors)[:,:2]\n",
        "\n",
        "# plt on graph\n",
        "fig=plt.figure(figsize=(10,10))\n",
        "ax=fig.add_axes([0,0,1,1])\n",
        "ax.set_title('scatter plot')\n",
        "# w2v\n",
        "ax.scatter(w2v_twodim[:,0], w2v_twodim[:,1], edgecolors='k', c='r')\n",
        "for word, (x,y) in zip(w2v_words, w2v_twodim):\n",
        "  ax.text(x+0.001, y+0.001, word)\n",
        "# svd\n",
        "ax.scatter(svd_twodim[:,0], svd_twodim[:,1], edgecolors='c', c='b')\n",
        "for word, (x,y) in zip(svd_words, svd_twodim):\n",
        "  ax.text(x+0.001, y+0.001, word)\n",
        "plt.show()\n"
      ],
      "execution_count": null,
      "outputs": [
        {
          "output_type": "stream",
          "text": [
            "['actor', 'show', 'director', 'film', 'movie', 'fun', 'woman', 'friend', 'girl', 'book']\n",
            "['actor', 'show', 'director', 'film', 'movie', 'fun', 'woman', 'friend', 'girl', 'book']\n"
          ],
          "name": "stdout"
        },
        {
          "output_type": "display_data",
          "data": {
            "image/png": "[encoded data removed]",
            "text/plain": [
              "<Figure size 720x720 with 1 Axes>"
            ]
          },
          "metadata": {
            "tags": [],
            "needs_background": "light"
          }
        }
      ]
    },
    {
      "cell_type": "code",
      "metadata": {
        "id": "iaitI9o0Em-g"
      },
      "source": [
        "# Create data\n",
        "N = 500\n",
        "x = np.random.rand(N)\n",
        "y = np.random.rand(N)\n",
        "colors = (0,0,0)\n",
        "area = np.pi*3\n",
        "\n",
        "# Plot\n",
        "plt.scatter(x, y, s=area, c=colors, alpha=0.5)\n",
        "plt.title('Scatter plot pythonspot.com')\n",
        "plt.xlabel('x')\n",
        "plt.ylabel('y')\n",
        "plt.show()"
      ],
      "execution_count": null,
      "outputs": []
    },
    {
      "cell_type": "code",
      "metadata": {
        "id": "FV4sy1fn4jGV"
      },
      "source": [
        "vector = model.wv['people']  # get numpy vector of a word\n",
        "vector"
      ],
      "execution_count": null,
      "outputs": []
    }
  ]
}