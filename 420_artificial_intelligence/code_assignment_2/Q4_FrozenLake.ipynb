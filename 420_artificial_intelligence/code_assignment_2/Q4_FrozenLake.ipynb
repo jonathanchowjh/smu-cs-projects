{
  "nbformat": 4,
  "nbformat_minor": 0,
  "metadata": {
    "colab": {
      "name": "FrozenLake.ipynb",
      "provenance": [],
      "collapsed_sections": []
    },
    "kernelspec": {
      "name": "python3",
      "display_name": "Python 3"
    },
    "language_info": {
      "name": "python"
    }
  },
  "cells": [
    {
      "cell_type": "code",
      "metadata": {
        "id": "QtS4HLn5BAc5"
      },
      "source": [
        "import gym\n",
        "import numpy as np\n",
        "import random\n",
        "from pylab import *"
      ],
      "execution_count": 51,
      "outputs": []
    },
    {
      "cell_type": "code",
      "metadata": {
        "id": "i_IwNftfBRk5"
      },
      "source": [
        "env = gym.make('FrozenLake-v0')"
      ],
      "execution_count": 52,
      "outputs": []
    },
    {
      "cell_type": "code",
      "metadata": {
        "id": "adzWy29OBWET"
      },
      "source": [
        "class FrozenLake:\n",
        "  def __init__(self):\n",
        "    # attributes\n",
        "    self.Q = np.zeros([env.observation_space.n,env.action_space.n])\n",
        "    self.reward_total = []\n",
        "    self.steps_total = []\n",
        "    # parameters\n",
        "    self.num_episodes = 2000\n",
        "    self.max_steps = 100\n",
        "    self.learning_rate = 0.8\n",
        "    self.gamma = 0.95\n",
        "    # self.egreedy = 0.90\n",
        "    # self.egreedy_decay = 0.999\n",
        "    # self.egreedy_final = 0.005\n",
        "  \n",
        "  def run(self):\n",
        "    for i in range(self.num_episodes):\n",
        "      reward_episode = 0\n",
        "      steps_episode = 0\n",
        "      state = env.reset()\n",
        "      \n",
        "      # for each step (action made) in one episode\n",
        "      while steps_episode < self.max_steps:\n",
        "        # get action (with randomness)\n",
        "        actions_for_state = self.Q[state,:] + np.random.randn(1, env.action_space.n) / (i + 1) # reduce randomness in action as episode number increase\n",
        "        action = np.argmax(actions_for_state)\n",
        "        \n",
        "        # # egreedy\n",
        "        # if np.random.rand(1)[0] < self.egreedy:\n",
        "        #   action = env.action_space.sample()\n",
        "        # if self.egreedy > self.egreedy_final:\n",
        "        #   self.egreedy *= self.egreedy_decay\n",
        "          \n",
        "\n",
        "        # make step with action\n",
        "        new_state, reward, done, _ = env.step(action)\n",
        "\n",
        "        # update Q table\n",
        "        old_estimate = self.Q[state,action]\n",
        "        step_size = self.learning_rate\n",
        "        target = reward + self.gamma * np.max(self.Q[new_state,:])\n",
        "        self.Q[state,action] = old_estimate + step_size * (target - old_estimate)\n",
        "\n",
        "        # update variables\n",
        "        state = new_state\n",
        "        reward_episode += reward\n",
        "        steps_episode += 1\n",
        "        \n",
        "        if done:\n",
        "          break\n",
        "      # update graphing arrays\n",
        "      self.reward_total.append(reward_episode)\n",
        "      self.steps_total.append(steps_episode)\n",
        "\n",
        "      if i%100 == 0: # printing\n",
        "        print(f'Step{i}: reward - {reward_episode} :: steps - {steps_episode}')\n",
        "    \n",
        "  def plot(self):\n",
        "    subplot(211)\n",
        "    plot(self.avr_pass(self.reward_total), 'b', label=\"Mean Reward per 100 Episode\")\n",
        "    legend(loc=\"best\")\n",
        "\n",
        "    subplot(212)\n",
        "    plot(self.avr_pass(self.steps_total), label=\"Total Number of Steps per Episode\")\n",
        "    legend(loc=\"best\")\n",
        "    show()\n",
        "\n",
        "  def low_pass(self, data, alpha=0.99):\n",
        "    low_pass = [data[0]]\n",
        "    for i in range(1,len(data)):\n",
        "      low_pass.append(alpha*low_pass[-1] + (1.0-alpha)*data[i] )\n",
        "    return low_pass\n",
        "  \n",
        "  def avr_pass(self, data, alpha=100):\n",
        "    avr_pass = []\n",
        "    for i in range(alpha - 1,len(data), alpha):\n",
        "      avr_pass.append(np.mean(data[i - alpha + 1:i]))\n",
        "    return avr_pass\n"
      ],
      "execution_count": 53,
      "outputs": []
    },
    {
      "cell_type": "code",
      "metadata": {
        "colab": {
          "base_uri": "https://localhost:8080/",
          "height": 612
        },
        "id": "CVdO2oa0HeRL",
        "outputId": "96d18c5d-f2c7-489e-d1a1-4428e0e81484"
      },
      "source": [
        "lake = FrozenLake()\n",
        "\n",
        "lake.run()\n",
        "lake.plot()"
      ],
      "execution_count": 54,
      "outputs": [
        {
          "output_type": "stream",
          "text": [
            "Step0: reward - 0.0 :: steps - 7\n",
            "Step100: reward - 0.0 :: steps - 2\n",
            "Step200: reward - 0.0 :: steps - 8\n",
            "Step300: reward - 1.0 :: steps - 50\n",
            "Step400: reward - 1.0 :: steps - 72\n",
            "Step500: reward - 0.0 :: steps - 44\n",
            "Step600: reward - 1.0 :: steps - 48\n",
            "Step700: reward - 1.0 :: steps - 22\n",
            "Step800: reward - 1.0 :: steps - 17\n",
            "Step900: reward - 0.0 :: steps - 100\n",
            "Step1000: reward - 1.0 :: steps - 18\n",
            "Step1100: reward - 0.0 :: steps - 100\n",
            "Step1200: reward - 1.0 :: steps - 31\n",
            "Step1300: reward - 1.0 :: steps - 16\n",
            "Step1400: reward - 1.0 :: steps - 38\n",
            "Step1500: reward - 0.0 :: steps - 100\n",
            "Step1600: reward - 0.0 :: steps - 5\n",
            "Step1700: reward - 1.0 :: steps - 13\n",
            "Step1800: reward - 1.0 :: steps - 95\n",
            "Step1900: reward - 1.0 :: steps - 12\n"
          ],
          "name": "stdout"
        },
        {
          "output_type": "display_data",
          "data": {
            "image/png": "[encoded data removed]",
            "text/plain": [
              "<Figure size 432x288 with 2 Axes>"
            ]
          },
          "metadata": {
            "tags": [],
            "needs_background": "light"
          }
        }
      ]
    }
  ]
}